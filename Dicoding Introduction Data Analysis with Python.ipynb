{
 "cells": [
  {
   "cell_type": "code",
   "execution_count": 1,
   "id": "d664bfff",
   "metadata": {},
   "outputs": [],
   "source": [
    "import numpy as np\n",
    "import pandas as pd\n",
    "from scipy import stats\n",
    "import matplotlib.pyplot as plt"
   ]
  },
  {
   "cell_type": "markdown",
   "id": "36fd7727",
   "metadata": {},
   "source": [
    "## Measuring Central Tendency"
   ]
  },
  {
   "cell_type": "markdown",
   "id": "cc142f13",
   "metadata": {},
   "source": [
    "#### Menghitung Mean"
   ]
  },
  {
   "cell_type": "code",
   "execution_count": 2,
   "id": "68d38bc6",
   "metadata": {},
   "outputs": [
    {
     "data": {
      "text/plain": [
       "1.7"
      ]
     },
     "execution_count": 2,
     "metadata": {},
     "output_type": "execute_result"
    }
   ],
   "source": [
    "jumlah_kucing = np.array([3, 2, 1, 1, 2, 3, 2, 1, 0, 2])\n",
    "jumlah_kucing.mean()"
   ]
  },
  {
   "cell_type": "markdown",
   "id": "868a369b",
   "metadata": {},
   "source": [
    "#### Menghitung Median"
   ]
  },
  {
   "cell_type": "code",
   "execution_count": 3,
   "id": "295e8845",
   "metadata": {},
   "outputs": [
    {
     "data": {
      "text/plain": [
       "2.0"
      ]
     },
     "execution_count": 3,
     "metadata": {},
     "output_type": "execute_result"
    }
   ],
   "source": [
    "jumlah_kucing = np.array([3, 2, 1, 1, 2, 3, 2, 1, 0, 2])\n",
    "np.median(jumlah_kucing)"
   ]
  },
  {
   "cell_type": "markdown",
   "id": "16e2246b",
   "metadata": {},
   "source": [
    "Jika Anda perhatikan, nilai median yang diperoleh dari contoh di atas berupa bilangan bulat dan cukup masuk akal untuk merepresentasikan nilai khas dari data tersebut. Selain itu, median juga dikenal sebagai salah satu parameter yang sangat toleran terhadap outlier. Apabila Anda mengubah salah satu nilai dari data tersebut, parameter median yang diperoleh tidak akan berubah secara signifikan.\n",
    "\n",
    "Sekadar informasi tambahan, pada proses analisis data terkadang kita juga perlu melihat nilai data pada persentil ke-25 dan persentil ke-75. Kedua nilai ini dikenal juga sebagai kuartil pertama (Q1) dan kuartil ketiga (Q3)."
   ]
  },
  {
   "cell_type": "markdown",
   "id": "6fa9c7dd",
   "metadata": {},
   "source": [
    "#### Mode (Modus)"
   ]
  },
  {
   "cell_type": "code",
   "execution_count": 4,
   "id": "d54c4811",
   "metadata": {},
   "outputs": [
    {
     "name": "stdout",
     "output_type": "stream",
     "text": [
      "[2]\n"
     ]
    }
   ],
   "source": [
    "jumlah_kucing = np.array([3, 2, 1, 1, 2, 3, 2, 1, 0, 2])\n",
    "mode_jumlah_kucing = stats.mode(jumlah_kucing)[0]\n",
    "print (mode_jumlah_kucing)"
   ]
  },
  {
   "cell_type": "markdown",
   "id": "d3f7c22a",
   "metadata": {},
   "source": [
    "Script tersebut menggunakan library NumPy (diwakili oleh alias np) dan SciPy (diwakili oleh stats) untuk menghitung modus dari suatu array yang berisi data jumlah kucing. Berikut penjelasan langkah-langkahnya:\n",
    "\n",
    "a. jumlah_kucing = np.array([3, 2, 1, 1, 2, 3, 2, 1, 0, 2]): Membuat array NumPy bernama jumlah_kucing yang berisi jumlah kucing pada setiap data point.\n",
    "#b. mode_jumlah_kucing = stats.mode(jumlah_kucing)[0]: Menggunakan fungsi mode dari modul stats dalam library SciPy untuk menghitung modus dari array jumlah_kucing. Hasilnya ditempatkan dalam variabel mode_jumlah_kucing.\n",
    "c. Fungsi mode mengembalikan objek berisi dua nilai: nilai modus dan frekuensinya. Namun, dalam script ini, kita hanya tertarik pada nilai modus saja, maka [0] digunakan untuk mengakses nilai pertama dari objek hasil fungsi mode.\n",
    "d. print(mode_jumlah_kucing): Mencetak nilai modus dari array jumlah_kucing. Hasil cetakan ini akan menampilkan nilai yang paling sering muncul dalam array tersebut."
   ]
  },
  {
   "cell_type": "markdown",
   "id": "23b245e0",
   "metadata": {},
   "source": [
    "## Measuring Dispersion"
   ]
  },
  {
   "cell_type": "markdown",
   "id": "4b682a9f",
   "metadata": {},
   "source": [
    "#### Menghitung Range"
   ]
  },
  {
   "cell_type": "code",
   "execution_count": 5,
   "id": "06afb9dd",
   "metadata": {},
   "outputs": [
    {
     "name": "stdout",
     "output_type": "stream",
     "text": [
      "Range = 3\n"
     ]
    }
   ],
   "source": [
    "jumlah_kucing = np.array([3, 2, 1, 1, 2, 3, 2, 1, 0, 2])\n",
    "range = jumlah_kucing.max()-jumlah_kucing.min()\n",
    "print (\"Range =\", range)"
   ]
  },
  {
   "cell_type": "markdown",
   "id": "d40f25a7",
   "metadata": {},
   "source": [
    "#### Interquartile Range"
   ]
  },
  {
   "cell_type": "markdown",
   "id": "0a02472b",
   "metadata": {},
   "source": [
    "Interquartile Range (IQR), sering disingkat IQR, merupakan parameter statistik yang menggambarkan selisih antara kuartil ketiga (Q3) dan kuartil pertama (Q1). Parameter ini mewakili nilai range atau rentang di mana sebagian besar titik data berada.\n",
    "\n",
    "Untuk menghitung IQR, langkah pertama adalah menentukan nilai Q1 dan Q3. Selanjutnya, kita dapat menghitung selisih keduanya. Selisih inilah yang menjadi nilai dari parameter IQR.\n",
    "\n",
    "Sebagai contoh, kita memiliki data jumlah kucing peliharaan pegawai Dicoding dengan nilai Q1=1 dan Q3=2. Dengan menghitung selisih keduanya, kita akan memperoleh nilai parameter IQR.\n"
   ]
  },
  {
   "cell_type": "code",
   "execution_count": 6,
   "id": "f33599fc",
   "metadata": {},
   "outputs": [
    {
     "name": "stdout",
     "output_type": "stream",
     "text": [
      "Nilai IQR =  1.0\n"
     ]
    }
   ],
   "source": [
    "jumlah_kucing = np.array([3, 2, 1, 1, 2, 3, 2, 1, 0, 2])\n",
    "iqr = np.percentile(jumlah_kucing, 75) - np.percentile(jumlah_kucing, 25)\n",
    "print(\"Nilai IQR = \", iqr)"
   ]
  },
  {
   "cell_type": "markdown",
   "id": "42dc1d62",
   "metadata": {},
   "source": [
    "iqr = np.percentile(jumlah_kucing, 75)  -np.percentile(jumlah_kucing, 25): Menggunakan fungsi np.percentile dari NumPy untuk menghitung kuartil ke-3 (Q3) dan kuartil ke-1 (Q1). Selanjutnya, menghitung selisih antara Q3 dan Q1 untuk mendapatkan nilai IQR.\n",
    "\n",
    "np.percentile(jumlah_kucing, 75): Menghitung kuartil ke-3 (Q3) atau nilai di mana 75% data kurang dari nilai tersebut.\n",
    "np.percentile(jumlah_kucing, 25): Menghitung kuartil ke-1 (Q1) atau nilai di mana 25% data kurang dari nilai tersebut."
   ]
  },
  {
   "cell_type": "markdown",
   "id": "e91027d4",
   "metadata": {},
   "source": [
    "#### Variance"
   ]
  },
  {
   "cell_type": "code",
   "execution_count": 7,
   "id": "3338aaa3",
   "metadata": {},
   "outputs": [
    {
     "data": {
      "text/plain": [
       "0.8999999999999999"
      ]
     },
     "execution_count": 7,
     "metadata": {},
     "output_type": "execute_result"
    }
   ],
   "source": [
    "jumlah_kucing = np.array([3, 2, 1, 1, 2, 3, 2, 1, 0, 2])\n",
    "jumlah_kucing_series = pd.Series(jumlah_kucing)\n",
    "jumlah_kucing_series.var()"
   ]
  },
  {
   "cell_type": "markdown",
   "id": "ba47816c",
   "metadata": {},
   "source": [
    "Variance merupakan parameter yang digunakan untuk menggambarkan besar simpangan suatu titik data dari nilai mean-nya. \n",
    "\n",
    "Sebelum menghitung nilai variance, kita membutuhkan nilai mean terlebih dahulu. Berikutnya kita perlu menghitung total selisih kuadrat dari seluruh titik data dengan nilai mean-nya. Nilai total tersebut selanjutnya akan dibagi dengan banyak titik data yang dimiliki. "
   ]
  },
  {
   "cell_type": "markdown",
   "id": "5f021bcd",
   "metadata": {},
   "source": [
    "#### Standard Deviation"
   ]
  },
  {
   "cell_type": "code",
   "execution_count": 8,
   "id": "8a4d8ae1",
   "metadata": {},
   "outputs": [
    {
     "data": {
      "text/plain": [
       "0.9486832980505138"
      ]
     },
     "execution_count": 8,
     "metadata": {},
     "output_type": "execute_result"
    }
   ],
   "source": [
    "jumlah_kucing = np.array([3, 2, 1, 1, 2, 3, 2, 1, 0, 2])\n",
    "jumlah_kucing_series = pd.Series(jumlah_kucing)\n",
    "jumlah_kucing_series.std()"
   ]
  },
  {
   "cell_type": "markdown",
   "id": "d5f05d8a",
   "metadata": {},
   "source": [
    "Standard deviation merupakan parameter yang paling sering digunakan para praktisi data untuk menilai sebaran atau simpangan dalam sebuah data. Semakin kecil nilai standard deviation, semakin kecil pula jarak antar titik data dengan nilai mean-nya sehingga bisa disimpulkan data tersebut memiliki sebaran yang sempit.\n",
    "\n",
    "Di sisi lain, semakin besar nilai standard deviation, semakin luas pula sebaran datanya. Selain itu, standard deviation juga sering digunakan untuk menilai seberapa baik parameter mean dalam merepresentasikan suatu data."
   ]
  },
  {
   "cell_type": "markdown",
   "id": "a7db91d9",
   "metadata": {},
   "source": [
    "## Measuring Asymmetric"
   ]
  },
  {
   "cell_type": "markdown",
   "id": "01b69c62",
   "metadata": {},
   "source": [
    "### Data Distribution"
   ]
  },
  {
   "cell_type": "markdown",
   "id": "ccc8604d",
   "metadata": {},
   "source": [
    "Distribusi data atau data distribution merupakan sebuah konsep statistik yang digunakan untuk menunjukkan frekuensi suatu nilai muncul dalam sebuah data. Umumnya kita menggunakan grafik histogram untuk melihat distribusi suatu data. Grafik tersebut akan menunjukkan frekuensi kemunculan setiap nilai dalam sebuah data.\n",
    "\n",
    "Secara umum, berdasarkan bentuk grafik histogram yang terbentuk, kita bisa membagi distribusi data dalam tiga bentuk yaitu symmetric distribution, right-skewed distribution, dan left-skewed distribution "
   ]
  },
  {
   "cell_type": "markdown",
   "id": "72822bd8",
   "metadata": {},
   "source": [
    "a. Syimmetric Distribution \n",
    "Symmetric distribution (normal distribution atau bell curve distribution) merupakan suatu distribusi data yang memungkinkan kita untuk membagi data menjadi dua bagian secara simetris. Distribusi data ini memiliki nilai mean, median, serta mode yang sama dan berada di sentral distribusi data.\n",
    "\n",
    "b. Right-skewed distribution\n",
    "Right-skewed distribution merupakan distribusi data yang memiliki sebagian besar populasi data yang terkonsentrasi pada bagian kiri. Distribusi data ini memiliki nilai mean lebih besar dari nilai median dan juga mode.\n",
    "\n",
    "c. Left-skewed distribution\n",
    "Left-skewed distribution merupakan distribusi data yang terjadi ketika sebagian besar populasi data berada pada bagian kanan. Umumnya distribusi ini memiliki nilai median dan mode yang lebih besar dari nilai mean."
   ]
  },
  {
   "cell_type": "code",
   "execution_count": 9,
   "id": "9fb7f763",
   "metadata": {
    "scrolled": true
   },
   "outputs": [
    {
     "data": {
      "image/png": "[encoded data removed]",
      "text/plain": [
       "<Figure size 432x288 with 1 Axes>"
      ]
     },
     "metadata": {
      "needs_background": "light"
     },
     "output_type": "display_data"
    }
   ],
   "source": [
    "jumlah_kucing = np.array([3, 2, 1, 1, 2, 3, 2, 1, 0, 2])\n",
    "plt.hist(jumlah_kucing, bins=4)\n",
    "plt.show()"
   ]
  },
  {
   "cell_type": "markdown",
   "id": "10382997",
   "metadata": {},
   "source": [
    "Grafik histogram di atas memiliki bentuk left-skewed distribution yang kurang sempurna. Bentuk yang tidak sempurna inilah yang paling sering kita temui di industri.\n",
    "Hal ini karena data yang umum dijumpai di industri sangat berantakan dan kotor."
   ]
  },
  {
   "cell_type": "markdown",
   "id": "6f2892e5",
   "metadata": {},
   "source": [
    "#### Skewness"
   ]
  },
  {
   "cell_type": "markdown",
   "id": "41c3c88a",
   "metadata": {},
   "source": [
    "Selain melihatnya menggunakan grafik histogram, kita juga bisa mengukur ketidaksimetrisan dalam distribusi data menggunakan parameter skewness. \n",
    "\n",
    "Skewness merupakan parameter statistik yang digunakan untuk mengukur kesimetrisan sebuah distribusi data. Ia mampu memberikan kita gambaran tentang banyaknya data yang menyimpang dari symmetric distribution. Parameter ini memiliki jangkauan nilai mulai dari negatif hingga positif.\n",
    "\n",
    "a. Nilai skewness positif menggambarkan data yang memiliki distribusi yang cenderung right-skewed.\n",
    "b. Nilai skewness nol menggambarkan data yang memiliki distribusi simetris sempurna.\n",
    "c. Nilai skewness negatif merepresentasikan data dengan distribusi yang cenderung left-skewed.\n",
    "\n",
    "Library pandas telah menyediakan sebuah method untuk menghitung skewness dari sebuah data. Berikut merupakan contoh kode untuk menghitung skewness dari data jumlah kucing peliharaan pegawai Dicoding."
   ]
  },
  {
   "cell_type": "code",
   "execution_count": 10,
   "id": "5b7d9341",
   "metadata": {},
   "outputs": [
    {
     "data": {
      "text/plain": [
       "-0.2342427896421018"
      ]
     },
     "execution_count": 10,
     "metadata": {},
     "output_type": "execute_result"
    }
   ],
   "source": [
    "jumlah_kucing = np.array([3, 2, 1, 1, 2, 3, 2, 1, 0, 2])\n",
    "jumlah_kucing_series = pd.Series(jumlah_kucing)\n",
    "jumlah_kucing_series.skew()"
   ]
  },
  {
   "cell_type": "markdown",
   "id": "6c8dda53",
   "metadata": {},
   "source": [
    "Kode di atas akan menghasilkan nilai skewness sebesar -0.23. Nilai tersebut menunjukkan bahwa data kita cenderung memiliki distribusi left-skewed.  "
   ]
  },
  {
   "cell_type": "markdown",
   "id": "238a1722",
   "metadata": {},
   "source": [
    "## Data Relationship"
   ]
  },
  {
   "cell_type": "markdown",
   "id": "66c6e230",
   "metadata": {},
   "source": [
    "Semua parameter yang telah kita bahas sebelumnya hanya menggambarkan keadaan satu feature/column/variable dari suatu data. Namun, pada kenyataannya kita sering kali bekerja dengan sebuah data yang memiliki lebih dari satu feature. Oleh karena itu, kita juga perlu mengetahui hubungan antar feature dalam satu data. Nah, untuk melakukannya kita perlu berkenalan dengan konsep lain dalam statistik yaitu data relationship.\n",
    "\n",
    "By definition, data relationship merupakan konsep statistik untuk mengidentifikasi hubungan antar feature bertipe numerik dalam sebuah data. Untuk mengidentifikasi hubungan antar feature bertipe numerik, kita bisa menggunakan dua parameter yaitu correlation dan covariance. "
   ]
  },
  {
   "cell_type": "markdown",
   "id": "db724372",
   "metadata": {},
   "source": [
    "### Correlation"
   ]
  },
  {
   "cell_type": "markdown",
   "id": "f5b6db46",
   "metadata": {},
   "source": [
    "Parameter pertama yang akan kita bahas untuk mengidentifikasi data relationship ialah correlation. Parameter ini digunakan untuk mengidentifikasi korelasi atau hubungan dari dua feature numerik dalam sebuah data. Korelasi ini digambarkan menggunakan nilai dengan rentang -1 hingga 1.\n",
    "\n",
    "Pada parameter correlation, nilai negatif menggambarkan korelasi berlawanan (negative correlation), sedangkan nilai positif merepresentasikan korelasi bersesuaian (positive correlation). Jika correlation dari dua feature bernilai nol, keduanya dinyatakan tidak memiliki korelasi (no correlation)."
   ]
  },
  {
   "cell_type": "code",
   "execution_count": 16,
   "id": "6a07d6e3",
   "metadata": {},
   "outputs": [
    {
     "name": "stdout",
     "output_type": "stream",
     "text": [
      "                                age  communication_skill_score  \\\n",
      "age                        1.000000                   0.848855   \n",
      "communication_skill_score  0.848855                   1.000000   \n",
      "quantitative_skill_score  -0.922489                  -0.890724   \n",
      "\n",
      "                           quantitative_skill_score  \n",
      "age                                       -0.922489  \n",
      "communication_skill_score                 -0.890724  \n",
      "quantitative_skill_score                   1.000000  \n"
     ]
    }
   ],
   "source": [
    "# Membuat DataFrame\n",
    "df = pd.DataFrame(sample_data)\n",
    "\n",
    "sample_data = {\n",
    "    'name': ['John', 'Alia', 'Ananya', 'Steve', 'Ben'],\n",
    "    'age': [24, 22, 23, 25, 28],  \n",
    "    'communication_skill_score': [85, 70, 75, 90, 90],\n",
    "    'quantitative_skill_score': [80, 90, 80, 75, 70]\n",
    "}\n",
    "\n",
    "df = pd.DataFrame(sample_data)\n",
    "\n",
    "# Menghitung korelasi\n",
    "correlation_matrix = df.corr()\n",
    "\n",
    "# Menampilkan hasil\n",
    "print(correlation_matrix)"
   ]
  },
  {
   "cell_type": "markdown",
   "id": "bf0de878",
   "metadata": {},
   "source": [
    "Pada tabel korelasi di atas, dapat dilihat bahwa feature age dan communication_skill_score memiliki korelasi cukup bersesuaian. Sebaliknya, feature age dan quantitative_skill_score memiliki korelasi yang sangat berlawanan."
   ]
  },
  {
   "cell_type": "markdown",
   "id": "57e206f2",
   "metadata": {},
   "source": [
    "### Covariance"
   ]
  },
  {
   "cell_type": "markdown",
   "id": "3b071d17",
   "metadata": {},
   "source": [
    "Selain menggunakan correlation, kita juga bisa menggunakan parameter covariance untuk mengidentifikasi hubungan antar dua feature dalam sebuah dataset. Berdasarkan nilainya, covariance terbagi menjadi tiga bagian seperti berikut.\n",
    "a. Positive covariance yang menggambarkan dua feature yang berkorelasi positif atau bersesuaian.\n",
    "b. Negative covariance yang merepresentasikan dua feature yang berkorelasi negatif atau berlawanan.\n",
    "c. Zero covariance yang menandakan dua feature yang tidak berkorelasi satu sama lain.\n",
    "\n",
    "Sebagai tool andalan dalam analisis data, library Pandas juga menyediakan sebuah method untuk menghitung covariance antar feature dalam sebuah DataFrame."
   ]
  },
  {
   "cell_type": "markdown",
   "id": "a75079b0",
   "metadata": {},
   "source": [
    "Jika Anda perhatikan, nilai covariance yang diperoleh memiliki skala yang belum ternormalisasi. Inilah yang menjadi salah satu kesulitan dalam menginterpretasi nilai covariance dari sebuah data."
   ]
  },
  {
   "cell_type": "code",
   "execution_count": null,
   "id": "c16463d4",
   "metadata": {},
   "outputs": [],
   "source": [
    "df = pd.DataFrame(sample_data)\n",
    "sample_data = {\n",
    "    'name': ['John', 'Alia', 'Ananya', 'Steve', 'Ben'],\n",
    "    'age': [24, 22, 23, 25, 28],  \n",
    "    'communication_skill_score': [85, 70, 75, 90, 90],\n",
    "    'quantitative_skill_score': [80, 90, 80, 75, 70]\n",
    "}\n",
    "\n",
    "# Menghitung kovarian\n",
    "covariance_matrix = df.cov()\n",
    "\n",
    "# Menampilkan hasil\n",
    "print(covariance_matrix)"
   ]
  }
 ],
 "metadata": {
  "kernelspec": {
   "display_name": "Python 3 (ipykernel)",
   "language": "python",
   "name": "python3"
  },
  "language_info": {
   "codemirror_mode": {
    "name": "ipython",
    "version": 3
   },
   "file_extension": ".py",
   "mimetype": "text/x-python",
   "name": "python",
   "nbconvert_exporter": "python",
   "pygments_lexer": "ipython3",
   "version": "3.9.12"
  }
 },
 "nbformat": 4,
 "nbformat_minor": 5
}
